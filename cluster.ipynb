{
 "cells": [
  {
   "cell_type": "code",
   "execution_count": 10,
   "metadata": {},
   "outputs": [],
   "source": [
    "import sklearn.cluster as skc\n",
    "import csv\n",
    "import pandas"
   ]
  },
  {
   "cell_type": "code",
   "execution_count": 23,
   "metadata": {},
   "outputs": [
    {
     "name": "stderr",
     "output_type": "stream",
     "text": [
      "/var/folders/f1/06_sb4pj60b3_t6f1ptwvv840000gn/T/ipykernel_11686/94961341.py:3: FutureWarning: In a future version of pandas all arguments of DataFrame.drop except for the argument 'labels' will be keyword-only\n",
      "  data = data.drop(data.columns[[0]], 1)\n"
     ]
    }
   ],
   "source": [
    "file = 'csvdata_10.csv'\n",
    "data = pandas.read_csv(file)\n",
    "data = data.drop(data.columns[[0]], 1)"
   ]
  },
  {
   "cell_type": "code",
   "execution_count": 36,
   "metadata": {},
   "outputs": [
    {
     "name": "stdout",
     "output_type": "stream",
     "text": [
      "   danceability  danceability_var    energy  energy_var  loudness  \\\n",
      "0      0.664077          0.021213  0.781077    0.016335 -4.891212   \n",
      "1      0.492382          0.018813  0.695923    0.043638 -8.107974   \n",
      "2      0.671063          0.011819  0.692953    0.030439 -4.875594   \n",
      "3      0.514429          0.030802  0.620902    0.058971 -9.618754   \n",
      "4      0.576235          0.028260  0.650418    0.040555 -7.634529   \n",
      "5      0.683662          0.021363  0.717412    0.026690 -5.883962   \n",
      "6      0.505250          0.020067  0.777813    0.014046 -6.620813   \n",
      "7      0.647113          0.012010  0.576245    0.029388 -7.813566   \n",
      "8      0.512457          0.016103  0.685761    0.040746 -6.393043   \n",
      "9      0.612571          0.008836  0.632619    0.026364 -8.442762   \n",
      "\n",
      "   loudness_var  speechiness  speechiness_var  acousticness  acousticness_var  \\\n",
      "0      1.721769     0.103698         0.007358      0.083674          0.014200   \n",
      "1      6.896997     0.091010         0.013898      0.162227          0.044290   \n",
      "2      4.740519     0.096425         0.006835      0.269100          0.059733   \n",
      "3     18.742903     0.067000         0.004607      0.273514          0.103539   \n",
      "4      6.233682     0.041218         0.000193      0.177189          0.054154   \n",
      "5      5.831106     0.076234         0.004057      0.115931          0.035315   \n",
      "6      6.585729     0.046756         0.000269      0.063968          0.011494   \n",
      "7      5.520967     0.076032         0.005747      0.318786          0.069183   \n",
      "8      5.877726     0.050289         0.000970      0.178996          0.071071   \n",
      "9     10.041452     0.049443         0.003390      0.322338          0.033966   \n",
      "\n",
      "   ...  instrumentalness_var  liveness  liveness_var   valence  valence_var  \\\n",
      "0  ...              0.000013  0.187087      0.021052  0.642750     0.036840   \n",
      "1  ...              0.130101  0.179344      0.017157  0.476667     0.041661   \n",
      "2  ...              0.000024  0.168894      0.014884  0.565078     0.041252   \n",
      "3  ...              0.096092  0.188278      0.019453  0.451258     0.061171   \n",
      "4  ...              0.046579  0.166524      0.028347  0.490294     0.065056   \n",
      "5  ...              0.000007  0.211870      0.027743  0.567538     0.035745   \n",
      "6  ...              0.017645  0.225625      0.016909  0.505812     0.048451   \n",
      "7  ...              0.039906  0.123825      0.003659  0.445779     0.053790   \n",
      "8  ...              0.027719  0.187717      0.017824  0.539109     0.048284   \n",
      "9  ...              0.000078  0.166895      0.008275  0.620619     0.023075   \n",
      "\n",
      "        tempo    tempo_var       date   date_var  artist_conc  \n",
      "0  121.157500   999.439627  13.111522   1.232804     0.746269  \n",
      "1  124.987128   859.968191   7.900962  41.862441     0.450000  \n",
      "2  114.595984   747.580994  16.885681   0.246529     0.518519  \n",
      "3  125.547627   782.055089  13.557814  20.096461     0.699248  \n",
      "4  127.725412   904.535191   9.821721   1.388321     0.944444  \n",
      "5  121.643075   576.970771  13.204655  14.008186     0.712963  \n",
      "6  123.188875   916.047087  11.518880  21.725272     0.823529  \n",
      "7  121.133887   699.142323  16.963101   0.759802     0.923077  \n",
      "8  130.531739   939.737213  12.617810  38.937597     0.510638  \n",
      "9  122.321762  1073.573782  11.437187  33.008662     0.777778  \n",
      "\n",
      "[10 rows x 21 columns]\n"
     ]
    }
   ],
   "source": [
    "print(data)"
   ]
  },
  {
   "cell_type": "code",
   "execution_count": 35,
   "metadata": {},
   "outputs": [],
   "source": [
    "kmeans = skc.KMeans(n_clusters=2).fit(data)"
   ]
  },
  {
   "cell_type": "code",
   "execution_count": 38,
   "metadata": {},
   "outputs": [
    {
     "name": "stdout",
     "output_type": "stream",
     "text": [
      "labels =  [1 1 0 0 1 0 1 0 1 1]\n",
      "cluster centers =  [[ 6.29066695e-01  1.89984406e-02  6.51878124e-01  3.63720274e-02\n",
      "  -7.04796906e+00  8.70887358e+00  7.89227064e-02  5.31168359e-03\n",
      "   2.44332819e-01  6.69423837e-02  7.01604948e-02  3.40071951e-02\n",
      "   1.73216514e-01  1.64347317e-02  5.07413202e-01  4.79894492e-02\n",
      "   1.20730143e+02  7.01437294e+02  1.51528129e+01  8.77774448e+00\n",
      "   7.13451631e-01]\n",
      " [ 5.60495370e-01  1.88817712e-02  7.03935011e-01  3.02807000e-02\n",
      "  -7.01505553e+00  6.22622579e+00  6.37357030e-02  4.34622153e-03\n",
      "   1.64732145e-01  3.81958886e-02  7.20006449e-02  3.70224501e-02\n",
      "   1.85531881e-01  1.82605374e-02  5.45875171e-01  4.38944124e-02\n",
      "   1.24985403e+02  9.48883515e+02  1.10680135e+01  2.30258494e+01\n",
      "   7.08776431e-01]]\n"
     ]
    }
   ],
   "source": [
    "print('labels = ', kmeans.labels_)\n",
    "print('cluster centers = ', kmeans.cluster_centers_)"
   ]
  },
  {
   "cell_type": "code",
   "execution_count": null,
   "metadata": {},
   "outputs": [],
   "source": []
  }
 ],
 "metadata": {
  "interpreter": {
   "hash": "aee8b7b246df8f9039afb4144a1f6fd8d2ca17a180786b69acc140d282b71a49"
  },
  "kernelspec": {
   "display_name": "Python 3.8.10 64-bit",
   "language": "python",
   "name": "python3"
  },
  "language_info": {
   "codemirror_mode": {
    "name": "ipython",
    "version": 3
   },
   "file_extension": ".py",
   "mimetype": "text/x-python",
   "name": "python",
   "nbconvert_exporter": "python",
   "pygments_lexer": "ipython3",
   "version": "3.9.7"
  },
  "orig_nbformat": 4
 },
 "nbformat": 4,
 "nbformat_minor": 2
}
