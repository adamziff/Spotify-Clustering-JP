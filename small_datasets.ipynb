{
 "cells": [
  {
   "cell_type": "code",
   "execution_count": 17,
   "metadata": {},
   "outputs": [
    {
     "name": "stdout",
     "output_type": "stream",
     "text": [
      "Defaulting to user installation because normal site-packages is not writeable\n",
      "Requirement already satisfied: pandas in /Users/adamziff/Library/Python/3.8/lib/python/site-packages (1.4.1)\n",
      "Requirement already satisfied: python-dateutil>=2.8.1 in /Library/Frameworks/Python.framework/Versions/3.8/lib/python3.8/site-packages (from pandas) (2.8.2)\n",
      "Requirement already satisfied: numpy>=1.18.5 in /Users/adamziff/Library/Python/3.8/lib/python/site-packages (from pandas) (1.22.2)\n",
      "Requirement already satisfied: pytz>=2020.1 in /Users/adamziff/Library/Python/3.8/lib/python/site-packages (from pandas) (2021.3)\n",
      "Requirement already satisfied: six>=1.5 in /Library/Frameworks/Python.framework/Versions/3.8/lib/python3.8/site-packages (from python-dateutil>=2.8.1->pandas) (1.16.0)\n",
      "Note: you may need to restart the kernel to use updated packages.\n"
     ]
    }
   ],
   "source": [
    "pip install pandas"
   ]
  },
  {
   "cell_type": "code",
   "execution_count": 18,
   "metadata": {},
   "outputs": [
    {
     "name": "stdout",
     "output_type": "stream",
     "text": [
      "Defaulting to user installation because normal site-packages is not writeable\n",
      "Requirement already satisfied: spotipy in /Users/adamziff/Library/Python/3.8/lib/python/site-packages (2.19.0)\n",
      "Requirement already satisfied: six>=1.15.0 in /Library/Frameworks/Python.framework/Versions/3.8/lib/python3.8/site-packages (from spotipy) (1.16.0)\n",
      "Requirement already satisfied: urllib3>=1.26.0 in /Users/adamziff/Library/Python/3.8/lib/python/site-packages (from spotipy) (1.26.8)\n",
      "Requirement already satisfied: requests>=2.25.0 in /Users/adamziff/Library/Python/3.8/lib/python/site-packages (from spotipy) (2.27.1)\n",
      "Requirement already satisfied: charset-normalizer~=2.0.0 in /Users/adamziff/Library/Python/3.8/lib/python/site-packages (from requests>=2.25.0->spotipy) (2.0.12)\n",
      "Requirement already satisfied: idna<4,>=2.5 in /Users/adamziff/Library/Python/3.8/lib/python/site-packages (from requests>=2.25.0->spotipy) (3.3)\n",
      "Requirement already satisfied: certifi>=2017.4.17 in /Library/Frameworks/Python.framework/Versions/3.8/lib/python3.8/site-packages (from requests>=2.25.0->spotipy) (2021.5.30)\n",
      "Note: you may need to restart the kernel to use updated packages.\n"
     ]
    }
   ],
   "source": [
    "\n",
    "pip install spotipy"
   ]
  },
  {
   "cell_type": "code",
   "execution_count": 19,
   "metadata": {},
   "outputs": [
    {
     "name": "stdout",
     "output_type": "stream",
     "text": [
      "Defaulting to user installation because normal site-packages is not writeable\n",
      "Requirement already satisfied: urllib3 in /Users/adamziff/Library/Python/3.8/lib/python/site-packages (1.26.8)\n",
      "Note: you may need to restart the kernel to use updated packages.\n",
      "Defaulting to user installation because normal site-packages is not writeable\n",
      "Requirement already satisfied: requests in /Users/adamziff/Library/Python/3.8/lib/python/site-packages (2.27.1)\n",
      "Requirement already satisfied: urllib3<1.27,>=1.21.1 in /Users/adamziff/Library/Python/3.8/lib/python/site-packages (from requests) (1.26.8)\n",
      "Requirement already satisfied: certifi>=2017.4.17 in /Library/Frameworks/Python.framework/Versions/3.8/lib/python3.8/site-packages (from requests) (2021.5.30)\n",
      "Requirement already satisfied: charset-normalizer~=2.0.0 in /Users/adamziff/Library/Python/3.8/lib/python/site-packages (from requests) (2.0.12)\n",
      "Requirement already satisfied: idna<4,>=2.5 in /Users/adamziff/Library/Python/3.8/lib/python/site-packages (from requests) (3.3)\n",
      "Note: you may need to restart the kernel to use updated packages.\n",
      "Defaulting to user installation because normal site-packages is not writeable\n",
      "Requirement already satisfied: spotipy in /Users/adamziff/Library/Python/3.8/lib/python/site-packages (2.19.0)\n",
      "Requirement already satisfied: six>=1.15.0 in /Library/Frameworks/Python.framework/Versions/3.8/lib/python3.8/site-packages (from spotipy) (1.16.0)\n",
      "Requirement already satisfied: urllib3>=1.26.0 in /Users/adamziff/Library/Python/3.8/lib/python/site-packages (from spotipy) (1.26.8)\n",
      "Requirement already satisfied: requests>=2.25.0 in /Users/adamziff/Library/Python/3.8/lib/python/site-packages (from spotipy) (2.27.1)\n",
      "Requirement already satisfied: certifi>=2017.4.17 in /Library/Frameworks/Python.framework/Versions/3.8/lib/python3.8/site-packages (from requests>=2.25.0->spotipy) (2021.5.30)\n",
      "Requirement already satisfied: charset-normalizer~=2.0.0 in /Users/adamziff/Library/Python/3.8/lib/python/site-packages (from requests>=2.25.0->spotipy) (2.0.12)\n",
      "Requirement already satisfied: idna<4,>=2.5 in /Users/adamziff/Library/Python/3.8/lib/python/site-packages (from requests>=2.25.0->spotipy) (3.3)\n",
      "Note: you may need to restart the kernel to use updated packages.\n"
     ]
    }
   ],
   "source": [
    "%pip install urllib3 --upgrade \n",
    "%pip install requests --upgrade \n",
    "%pip install spotipy --upgrade"
   ]
  },
  {
   "cell_type": "code",
   "execution_count": 20,
   "metadata": {},
   "outputs": [],
   "source": [
    "import spotipy\n",
    "from spotipy.oauth2 import SpotifyClientCredentials\n",
    "import os\n",
    "import numpy as np\n",
    "import timeit\n",
    "import pandas as pd\n",
    "from operator import itemgetter\n",
    "import time\n",
    "import datetime as dt\n",
    "\n",
    "os.environ['SPOTIPY_CLIENT_ID'] = '3191e7e8b04e46c1af64f49bcdd020be'\n",
    "os.environ['SPOTIPY_CLIENT_SECRET'] = '88dc925eff0d4006bb6d0b9b2401ac59'"
   ]
  },
  {
   "cell_type": "code",
   "execution_count": 21,
   "metadata": {},
   "outputs": [],
   "source": [
    "auth_manager = SpotifyClientCredentials()\n",
    "sp = spotipy.Spotify(auth_manager=auth_manager)"
   ]
  },
  {
   "cell_type": "code",
   "execution_count": 22,
   "metadata": {},
   "outputs": [],
   "source": [
    "import json\n",
    "with open('mpd_slice_0_999.json') as json_file:\n",
    "    data = json.load(json_file)"
   ]
  },
  {
   "cell_type": "code",
   "execution_count": 23,
   "metadata": {},
   "outputs": [],
   "source": [
    "# calculate artist concentration value for a playlist\n",
    "# low value means high concentration - maybe rename to artist diversity?\n",
    "# input: 2D array of artists for each song\n",
    "# output: real value between 0 and 1\n",
    "def get_artist_conc(artists):\n",
    "    unique_artists = len(set(artists))\n",
    "    total_appearances = len(artists)\n",
    "    artist_conc = unique_artists / total_appearances\n",
    "    return artist_conc"
   ]
  },
  {
   "cell_type": "code",
   "execution_count": 24,
   "metadata": {},
   "outputs": [],
   "source": [
    "MS_IN_DAY = 86400\n",
    "def get_artists_and_dates(uris):\n",
    "    # do the batching above this- here we assume that there are no more than 50 URIs\n",
    "    # i could put an assert statement here but it would slow the code down\n",
    "    # assert(len(uris) <= 50)\n",
    "    artists = []\n",
    "    dates = []\n",
    "    tracks = sp.tracks(uris)['tracks']\n",
    "    for track in tracks:\n",
    "        if track is None:\n",
    "            print(track)\n",
    "        else:\n",
    "            for artist in track['artists']:\n",
    "                artists.append(artist['name'])\n",
    "            date = track['album']['release_date']\n",
    "            while len(date) < 10:\n",
    "                date += '-01'\n",
    "            ms_date = dt.datetime.timestamp(dt.datetime.strptime(date,\"%Y-%m-%d\"))\n",
    "            dates.append(ms_date / MS_IN_DAY)\n",
    "            \n",
    "    return artists, dates"
   ]
  },
  {
   "cell_type": "code",
   "execution_count": 25,
   "metadata": {},
   "outputs": [],
   "source": [
    "# get all audio features for a given playlist\n",
    "def get_playlist_audio_features_batch(tracks):\n",
    "    tracks = pd.DataFrame(tracks)\n",
    "    playlist_uris = tracks['track_uri']\n",
    "\n",
    "    remainder = len(tracks) % 100\n",
    "    all_features = []\n",
    "    if remainder > 0: \n",
    "        all_features = sp.audio_features(playlist_uris[:remainder])\n",
    "    while remainder < len(tracks):\n",
    "        all_features += sp.audio_features(playlist_uris[remainder:remainder+100])\n",
    "        remainder += 100\n",
    "    \n",
    "    remainder = len(tracks) % 50\n",
    "    artists, dates = [], []\n",
    "    if remainder > 0:\n",
    "        artists, dates = get_artists_and_dates(playlist_uris[:remainder])\n",
    "    while remainder < len(tracks):\n",
    "        next_artists, next_dates = get_artists_and_dates(playlist_uris[remainder:remainder+50])\n",
    "        artists += next_artists\n",
    "        dates += next_dates\n",
    "        remainder += 50\n",
    "    return all_features, artists, dates"
   ]
  },
  {
   "cell_type": "code",
   "execution_count": 26,
   "metadata": {},
   "outputs": [],
   "source": [
    "# calculate aggregate audio features for a playlist\n",
    "# currently only focused on audio features, I'll deal with artist and release date later\n",
    "def get_playlist_aggregate_features_v2(tracks):\n",
    "    \n",
    "    all_features, artists, dates = get_playlist_audio_features_batch(tracks)\n",
    "    all_features = pd.DataFrame(all_features)\n",
    "\n",
    "    feature_list = ['danceability', 'energy', 'loudness', 'speechiness', 'acousticness', 'instrumentalness', 'liveness', 'valence', 'tempo']\n",
    "    aggregate_features = {}\n",
    "    for feature in feature_list:\n",
    "        all_by_feature = all_features[feature]\n",
    "        aggregate_features[feature] = np.mean(all_by_feature)\n",
    "        aggregate_features[feature+'_var'] = np.var(all_by_feature)\n",
    "    aggregate_features['date'] = np.mean(dates)\n",
    "    aggregate_features['date_var'] = np.var(dates)\n",
    "    aggregate_features['artist_conc'] = get_artist_conc(artists)\n",
    "    return aggregate_features"
   ]
  },
  {
   "cell_type": "code",
   "execution_count": 27,
   "metadata": {},
   "outputs": [],
   "source": [
    "# build the aggregate dataset!\n",
    "def build_dataset_v2(playlists):\n",
    "    aggregate_dataset = []\n",
    "    for playlist in playlists:\n",
    "        aggregate_dataset.append(get_playlist_aggregate_features_v2(playlist['tracks']))\n",
    "    return aggregate_dataset"
   ]
  },
  {
   "cell_type": "code",
   "execution_count": 28,
   "metadata": {},
   "outputs": [],
   "source": [
    "dataset = pd.DataFrame(build_dataset_v2(data['playlists'][:10]))\n",
    "dataset.to_csv(r'csvdata_10.csv')"
   ]
  },
  {
   "cell_type": "code",
   "execution_count": 30,
   "metadata": {},
   "outputs": [
    {
     "name": "stdout",
     "output_type": "stream",
     "text": [
      "   danceability  danceability_var    energy  energy_var  loudness  \\\n",
      "3      0.514429          0.030802  0.620902    0.058971 -9.618754   \n",
      "4      0.576235          0.028260  0.650418    0.040555 -7.634529   \n",
      "5      0.683662          0.021363  0.717413    0.026690 -5.883962   \n",
      "\n",
      "   loudness_var  speechiness  speechiness_var  acousticness  acousticness_var  \\\n",
      "3     18.742903     0.067000         0.004607      0.273514          0.103539   \n",
      "4      6.233682     0.041218         0.000193      0.177189          0.054154   \n",
      "5      5.831106     0.076234         0.004057      0.115931          0.035315   \n",
      "\n",
      "   ...  instrumentalness_var  liveness  liveness_var   valence  valence_var  \\\n",
      "3  ...              0.096092  0.188278      0.019453  0.451258     0.061171   \n",
      "4  ...              0.046579  0.166524      0.028347  0.490294     0.065056   \n",
      "5  ...              0.000007  0.211870      0.027743  0.567538     0.035745   \n",
      "\n",
      "        tempo   tempo_var          date      date_var  artist_conc  \n",
      "3  125.547627  782.055089  13557.813823  2.009646e+07     0.699248  \n",
      "4  127.725412  904.535191   9821.720588  1.388321e+06     0.944444  \n",
      "5  121.643075  576.970771  13204.655208  1.400819e+07     0.712963  \n",
      "\n",
      "[3 rows x 21 columns]\n"
     ]
    }
   ],
   "source": [
    "print(dataset[3:6])"
   ]
  },
  {
   "cell_type": "code",
   "execution_count": null,
   "metadata": {},
   "outputs": [],
   "source": []
  }
 ],
 "metadata": {
  "interpreter": {
   "hash": "aee8b7b246df8f9039afb4144a1f6fd8d2ca17a180786b69acc140d282b71a49"
  },
  "kernelspec": {
   "display_name": "Python 3.8.10 64-bit",
   "language": "python",
   "name": "python3"
  },
  "language_info": {
   "codemirror_mode": {
    "name": "ipython",
    "version": 3
   },
   "file_extension": ".py",
   "mimetype": "text/x-python",
   "name": "python",
   "nbconvert_exporter": "python",
   "pygments_lexer": "ipython3",
   "version": "3.8.10"
  },
  "orig_nbformat": 4
 },
 "nbformat": 4,
 "nbformat_minor": 2
}
